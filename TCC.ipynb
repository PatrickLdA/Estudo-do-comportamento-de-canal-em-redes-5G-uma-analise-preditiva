{
 "cells": [
  {
   "cell_type": "markdown",
   "metadata": {
    "colab_type": "text",
    "id": "4pTz3oZE8mqc"
   },
   "source": [
    "# Construcao da rede neural - Analise do CQI\n",
    "A rede neural proposta vai analisar o report de CQI de um UE a uma BSS de LTE-A em 2500 frames. As configuracoes de simulacao sao:\n",
    "\n",
    "- NFrames = 2500;\n",
    "\n",
    "- SNRdB = 6.0.\n",
    "\n",
    "\n",
    "Configuracao UE:\n",
    "\n",
    "- RMC R.3;\n",
    "\n",
    "- CFI = 1;\n",
    "\n",
    "- HARQ desligado.\n",
    "\n",
    "Modelo de propagacao:\n",
    "\n",
    "- Seed = 10;\n",
    "- 4 Antenas receptoras;\n",
    "- Modelo de delay EPA;\n",
    "- Doppler Freq = 5Hz;\n",
    "- Alta correlacao (MIMO);\n",
    "- Modelo de Rayleigh GMEDS;\n",
    "- 16 osciladores no modelo.\n",
    "\n",
    "\n",
    "Delay do CQI:\n",
    "\n",
    "- CQI Delay = 8 subframes."
   ]
  },
  {
   "cell_type": "markdown",
   "metadata": {
    "colab_type": "text",
    "id": "cOBRto0F-Hgs"
   },
   "source": [
    "## Importando bibliotecas"
   ]
  },
  {
   "cell_type": "code",
   "execution_count": 1,
   "metadata": {
    "colab": {
     "base_uri": "https://localhost:8080/",
     "height": 390
    },
    "colab_type": "code",
    "id": "i8BJPnatLWwO",
    "outputId": "a0531778-477f-4b6f-b495-27e6c83aaeff"
   },
   "outputs": [
    {
     "name": "stdout",
     "output_type": "stream",
     "text": [
      "Collecting tensorflow==1.15\n",
      "  Downloading tensorflow-1.15.0-cp37-cp37m-win_amd64.whl (295.1 MB)\n",
      "Collecting keras-preprocessing>=1.0.5\n",
      "  Downloading Keras_Preprocessing-1.1.0-py2.py3-none-any.whl (41 kB)\n",
      "Collecting keras-applications>=1.0.8\n",
      "  Downloading Keras_Applications-1.0.8-py3-none-any.whl (50 kB)\n",
      "Collecting termcolor>=1.1.0\n",
      "  Downloading termcolor-1.1.0.tar.gz (3.9 kB)\n",
      "Requirement already satisfied: wrapt>=1.11.1 in c:\\users\\patri\\anaconda3\\lib\\site-packages (from tensorflow==1.15) (1.11.2)\n",
      "Collecting tensorflow-estimator==1.15.1\n",
      "  Downloading tensorflow_estimator-1.15.1-py2.py3-none-any.whl (503 kB)\n",
      "Collecting grpcio>=1.8.6\n",
      "  Downloading grpcio-1.28.1-cp37-cp37m-win_amd64.whl (2.0 MB)\n",
      "Requirement already satisfied: wheel>=0.26 in c:\\users\\patri\\anaconda3\\lib\\site-packages (from tensorflow==1.15) (0.34.2)\n",
      "Collecting gast==0.2.2\n",
      "  Downloading gast-0.2.2.tar.gz (10 kB)\n",
      "Collecting opt-einsum>=2.3.2\n",
      "  Downloading opt_einsum-3.2.1-py3-none-any.whl (63 kB)\n",
      "Collecting absl-py>=0.7.0\n",
      "  Downloading absl-py-0.9.0.tar.gz (104 kB)\n",
      "Requirement already satisfied: six>=1.10.0 in c:\\users\\patri\\anaconda3\\lib\\site-packages (from tensorflow==1.15) (1.14.0)\n",
      "Collecting tensorboard<1.16.0,>=1.15.0\n",
      "  Downloading tensorboard-1.15.0-py3-none-any.whl (3.8 MB)\n",
      "Collecting google-pasta>=0.1.6\n",
      "  Downloading google_pasta-0.2.0-py3-none-any.whl (57 kB)\n",
      "Requirement already satisfied: numpy<2.0,>=1.16.0 in c:\\users\\patri\\anaconda3\\lib\\site-packages (from tensorflow==1.15) (1.18.1)\n",
      "Collecting astor>=0.6.0\n",
      "  Downloading astor-0.8.1-py2.py3-none-any.whl (27 kB)\n",
      "Collecting protobuf>=3.6.1\n",
      "  Downloading protobuf-3.11.3-cp37-cp37m-win_amd64.whl (1.0 MB)\n",
      "Requirement already satisfied: h5py in c:\\users\\patri\\anaconda3\\lib\\site-packages (from keras-applications>=1.0.8->tensorflow==1.15) (2.10.0)\n",
      "Requirement already satisfied: werkzeug>=0.11.15 in c:\\users\\patri\\anaconda3\\lib\\site-packages (from tensorboard<1.16.0,>=1.15.0->tensorflow==1.15) (1.0.0)\n",
      "Requirement already satisfied: setuptools>=41.0.0 in c:\\users\\patri\\anaconda3\\lib\\site-packages (from tensorboard<1.16.0,>=1.15.0->tensorflow==1.15) (45.2.0.post20200210)\n",
      "Collecting markdown>=2.6.8\n",
      "  Downloading Markdown-3.2.1-py2.py3-none-any.whl (88 kB)\n",
      "Building wheels for collected packages: termcolor, gast, absl-py\n",
      "  Building wheel for termcolor (setup.py): started\n",
      "  Building wheel for termcolor (setup.py): finished with status 'done'\n",
      "  Created wheel for termcolor: filename=termcolor-1.1.0-py3-none-any.whl size=4835 sha256=d437fc16b50303c9b2893658a575d7a774eaf35360e75d7dc747db08541ca56b\n",
      "  Stored in directory: c:\\users\\patri\\appdata\\local\\pip\\cache\\wheels\\3f\\e3\\ec\\8a8336ff196023622fbcb36de0c5a5c218cbb24111d1d4c7f2\n",
      "  Building wheel for gast (setup.py): started\n",
      "  Building wheel for gast (setup.py): finished with status 'done'\n",
      "  Created wheel for gast: filename=gast-0.2.2-py3-none-any.whl size=7547 sha256=e946cdefa2c2498db36e16f63b4e3d2b5e241f248ac643ca810b8fc6604d8f24\n",
      "  Stored in directory: c:\\users\\patri\\appdata\\local\\pip\\cache\\wheels\\21\\7f\\02\\420f32a803f7d0967b48dd823da3f558c5166991bfd204eef3\n",
      "  Building wheel for absl-py (setup.py): started\n",
      "  Building wheel for absl-py (setup.py): finished with status 'done'\n",
      "  Created wheel for absl-py: filename=absl_py-0.9.0-py3-none-any.whl size=121935 sha256=f6442b5bdebd82488ce079be676e1340846f88ada9e5d1bcd5a09ae9ff5d7fdc\n",
      "  Stored in directory: c:\\users\\patri\\appdata\\local\\pip\\cache\\wheels\\cc\\af\\1a\\498a24d0730ef484019e007bb9e8cef3ac00311a672c049a3e\n",
      "Successfully built termcolor gast absl-py\n",
      "Installing collected packages: keras-preprocessing, keras-applications, termcolor, tensorflow-estimator, grpcio, gast, opt-einsum, absl-py, protobuf, markdown, tensorboard, google-pasta, astor, tensorflow\n",
      "Successfully installed absl-py-0.9.0 astor-0.8.1 gast-0.2.2 google-pasta-0.2.0 grpcio-1.28.1 keras-applications-1.0.8 keras-preprocessing-1.1.0 markdown-3.2.1 opt-einsum-3.2.1 protobuf-3.11.3 tensorboard-1.15.0 tensorflow-1.15.0 tensorflow-estimator-1.15.1 termcolor-1.1.0\n",
      "Note: you may need to restart the kernel to use updated packages.\n"
     ]
    }
   ],
   "source": [
    "pip install tensorflow==1.15"
   ]
  },
  {
   "cell_type": "code",
   "execution_count": 2,
   "metadata": {
    "colab": {},
    "colab_type": "code",
    "id": "yXPYbnHC-J_G"
   },
   "outputs": [],
   "source": [
    "import numpy as np\n",
    "import pandas as pd\n",
    "\n",
    "import matplotlib.pyplot as plt\n",
    "%matplotlib inline\n",
    "\n",
    "import tensorflow as tf"
   ]
  },
  {
   "cell_type": "markdown",
   "metadata": {
    "colab_type": "text",
    "id": "O3e-0Gnf-N4b"
   },
   "source": [
    "## Análise dos dados gerados"
   ]
  },
  {
   "cell_type": "code",
   "execution_count": 3,
   "metadata": {
    "colab": {},
    "colab_type": "code",
    "id": "jITZsPv_-QM0"
   },
   "outputs": [],
   "source": [
    "#Seed 10\n",
    "cqi = pd.read_csv(\"Seed_10/Adaptação/CQIReport.csv\", index_col = \"Indice\")\n",
    "sinr = pd.read_csv(\"Seed_10/Adaptação/SINRReport.csv\", index_col = \"Indice\")\n",
    "\n",
    "##Seed 9\n",
    "#cqi = pd.read_csv(\"Seed_9/Adaptação/CQIReport.csv\", index_col = \"Indice\")\n",
    "#sinr = pd.read_csv(\"Seed_9/Adaptação/SINRReport.csv\", index_col = \"Indice\")\n",
    "#\n",
    "##Seed 8\n",
    "#cqi = pd.read_csv(\"Seed_8/Adaptação/CQIReport.csv\", index_col = \"Indice\")\n",
    "#sinr = pd.read_csv(\"Seed_8/Adaptação/SINRReport.csv\", index_col = \"Indice\")\n",
    "#\n",
    "##Seed 7\n",
    "#cqi = pd.read_csv(\"Seed_7/Adaptação/CQIReport.csv\", index_col = \"Indice\")\n",
    "#sinr = pd.read_csv(\"Seed_7/Adaptação/SINRReport.csv\", index_col = \"Indice\")"
   ]
  },
  {
   "cell_type": "code",
   "execution_count": 4,
   "metadata": {
    "colab": {
     "base_uri": "https://localhost:8080/",
     "height": 225
    },
    "colab_type": "code",
    "id": "nSQSJdJbEoog",
    "outputId": "991be163-e122-4a31-e52c-4d605c48dfa2"
   },
   "outputs": [
    {
     "data": {
      "text/html": [
       "<div>\n",
       "<style scoped>\n",
       "    .dataframe tbody tr th:only-of-type {\n",
       "        vertical-align: middle;\n",
       "    }\n",
       "\n",
       "    .dataframe tbody tr th {\n",
       "        vertical-align: top;\n",
       "    }\n",
       "\n",
       "    .dataframe thead th {\n",
       "        text-align: right;\n",
       "    }\n",
       "</style>\n",
       "<table border=\"1\" class=\"dataframe\">\n",
       "  <thead>\n",
       "    <tr style=\"text-align: right;\">\n",
       "      <th></th>\n",
       "      <th>CQI</th>\n",
       "    </tr>\n",
       "    <tr>\n",
       "      <th>Indice</th>\n",
       "      <th></th>\n",
       "    </tr>\n",
       "  </thead>\n",
       "  <tbody>\n",
       "    <tr>\n",
       "      <th>1</th>\n",
       "      <td>13</td>\n",
       "    </tr>\n",
       "    <tr>\n",
       "      <th>2</th>\n",
       "      <td>13</td>\n",
       "    </tr>\n",
       "    <tr>\n",
       "      <th>3</th>\n",
       "      <td>13</td>\n",
       "    </tr>\n",
       "    <tr>\n",
       "      <th>4</th>\n",
       "      <td>13</td>\n",
       "    </tr>\n",
       "    <tr>\n",
       "      <th>5</th>\n",
       "      <td>13</td>\n",
       "    </tr>\n",
       "  </tbody>\n",
       "</table>\n",
       "</div>"
      ],
      "text/plain": [
       "        CQI\n",
       "Indice     \n",
       "1        13\n",
       "2        13\n",
       "3        13\n",
       "4        13\n",
       "5        13"
      ]
     },
     "execution_count": 4,
     "metadata": {},
     "output_type": "execute_result"
    }
   ],
   "source": [
    "cqi.head()"
   ]
  },
  {
   "cell_type": "code",
   "execution_count": 5,
   "metadata": {
    "colab": {
     "base_uri": "https://localhost:8080/",
     "height": 296
    },
    "colab_type": "code",
    "id": "ZB7z9yz_-n8h",
    "outputId": "426af7c0-e3dd-467c-fef2-b1a7f18bcc0f"
   },
   "outputs": [
    {
     "data": {
      "text/plain": [
       "<matplotlib.axes._subplots.AxesSubplot at 0x1612fffc508>"
      ]
     },
     "execution_count": 5,
     "metadata": {},
     "output_type": "execute_result"
    },
    {
     "data": {
      "image/png": "[encoded data removed]",
      "text/plain": [
       "<Figure size 432x288 with 1 Axes>"
      ]
     },
     "metadata": {
      "needs_background": "light"
     },
     "output_type": "display_data"
    }
   ],
   "source": [
    "cqi.plot()"
   ]
  },
  {
   "cell_type": "code",
   "execution_count": 6,
   "metadata": {
    "colab": {
     "base_uri": "https://localhost:8080/",
     "height": 225
    },
    "colab_type": "code",
    "id": "uww44SmNEr42",
    "outputId": "83e23805-0640-4e5e-ad61-c698a3cda004"
   },
   "outputs": [
    {
     "data": {
      "text/html": [
       "<div>\n",
       "<style scoped>\n",
       "    .dataframe tbody tr th:only-of-type {\n",
       "        vertical-align: middle;\n",
       "    }\n",
       "\n",
       "    .dataframe tbody tr th {\n",
       "        vertical-align: top;\n",
       "    }\n",
       "\n",
       "    .dataframe thead th {\n",
       "        text-align: right;\n",
       "    }\n",
       "</style>\n",
       "<table border=\"1\" class=\"dataframe\">\n",
       "  <thead>\n",
       "    <tr style=\"text-align: right;\">\n",
       "      <th></th>\n",
       "      <th>SINR</th>\n",
       "    </tr>\n",
       "    <tr>\n",
       "      <th>Indice</th>\n",
       "      <th></th>\n",
       "    </tr>\n",
       "  </thead>\n",
       "  <tbody>\n",
       "    <tr>\n",
       "      <th>1</th>\n",
       "      <td>19357.0</td>\n",
       "    </tr>\n",
       "    <tr>\n",
       "      <th>2</th>\n",
       "      <td>19879.0</td>\n",
       "    </tr>\n",
       "    <tr>\n",
       "      <th>3</th>\n",
       "      <td>20033.0</td>\n",
       "    </tr>\n",
       "    <tr>\n",
       "      <th>4</th>\n",
       "      <td>20214.0</td>\n",
       "    </tr>\n",
       "    <tr>\n",
       "      <th>5</th>\n",
       "      <td>20.2</td>\n",
       "    </tr>\n",
       "  </tbody>\n",
       "</table>\n",
       "</div>"
      ],
      "text/plain": [
       "           SINR\n",
       "Indice         \n",
       "1       19357.0\n",
       "2       19879.0\n",
       "3       20033.0\n",
       "4       20214.0\n",
       "5          20.2"
      ]
     },
     "execution_count": 6,
     "metadata": {},
     "output_type": "execute_result"
    }
   ],
   "source": [
    "sinr.head()"
   ]
  },
  {
   "cell_type": "markdown",
   "metadata": {
    "colab_type": "text",
    "id": "ATnT9_UdgFsG"
   },
   "source": [
    "Conforme podemos ver, o Matlab teve problema para importar o SINR. Como eram valores com ate 3 casas decimais apos a virgula, o Matlab salvou estes valores sem discernir as casas decimais, por isso e necessario um codigo de adaptacao dos dados antes de qualquer coisa."
   ]
  },
  {
   "cell_type": "code",
   "execution_count": 7,
   "metadata": {
    "colab": {},
    "colab_type": "code",
    "id": "NDtSo6y1GY3l"
   },
   "outputs": [],
   "source": [
    "for i in range (1, len(sinr)+1):\n",
    "  if sinr['SINR'][i] > 1000:\n",
    "    sinr['SINR'][i] = sinr['SINR'][i] * 0.001"
   ]
  },
  {
   "cell_type": "code",
   "execution_count": 8,
   "metadata": {
    "colab": {
     "base_uri": "https://localhost:8080/",
     "height": 225
    },
    "colab_type": "code",
    "id": "ZEzfD67LgaqJ",
    "outputId": "36ebc999-1727-464e-a861-73f3db73ee61"
   },
   "outputs": [
    {
     "data": {
      "text/html": [
       "<div>\n",
       "<style scoped>\n",
       "    .dataframe tbody tr th:only-of-type {\n",
       "        vertical-align: middle;\n",
       "    }\n",
       "\n",
       "    .dataframe tbody tr th {\n",
       "        vertical-align: top;\n",
       "    }\n",
       "\n",
       "    .dataframe thead th {\n",
       "        text-align: right;\n",
       "    }\n",
       "</style>\n",
       "<table border=\"1\" class=\"dataframe\">\n",
       "  <thead>\n",
       "    <tr style=\"text-align: right;\">\n",
       "      <th></th>\n",
       "      <th>SINR</th>\n",
       "    </tr>\n",
       "    <tr>\n",
       "      <th>Indice</th>\n",
       "      <th></th>\n",
       "    </tr>\n",
       "  </thead>\n",
       "  <tbody>\n",
       "    <tr>\n",
       "      <th>1</th>\n",
       "      <td>19.357</td>\n",
       "    </tr>\n",
       "    <tr>\n",
       "      <th>2</th>\n",
       "      <td>19.879</td>\n",
       "    </tr>\n",
       "    <tr>\n",
       "      <th>3</th>\n",
       "      <td>20.033</td>\n",
       "    </tr>\n",
       "    <tr>\n",
       "      <th>4</th>\n",
       "      <td>20.214</td>\n",
       "    </tr>\n",
       "    <tr>\n",
       "      <th>5</th>\n",
       "      <td>20.200</td>\n",
       "    </tr>\n",
       "  </tbody>\n",
       "</table>\n",
       "</div>"
      ],
      "text/plain": [
       "          SINR\n",
       "Indice        \n",
       "1       19.357\n",
       "2       19.879\n",
       "3       20.033\n",
       "4       20.214\n",
       "5       20.200"
      ]
     },
     "execution_count": 8,
     "metadata": {},
     "output_type": "execute_result"
    }
   ],
   "source": [
    "sinr.head()"
   ]
  },
  {
   "cell_type": "code",
   "execution_count": 9,
   "metadata": {
    "colab": {
     "base_uri": "https://localhost:8080/",
     "height": 296
    },
    "colab_type": "code",
    "id": "JCatV_SG_CAE",
    "outputId": "871668b6-6808-4170-af64-fc737ffd599b"
   },
   "outputs": [
    {
     "data": {
      "text/plain": [
       "<matplotlib.axes._subplots.AxesSubplot at 0x1613073fe08>"
      ]
     },
     "execution_count": 9,
     "metadata": {},
     "output_type": "execute_result"
    },
    {
     "data": {
      "image/png": "[encoded data removed]",
      "text/plain": [
       "<Figure size 432x288 with 1 Axes>"
      ]
     },
     "metadata": {
      "needs_background": "light"
     },
     "output_type": "display_data"
    }
   ],
   "source": [
    "sinr.plot()"
   ]
  },
  {
   "cell_type": "markdown",
   "metadata": {
    "colab_type": "text",
    "id": "xAbhktNBeBDo"
   },
   "source": [
    "Plotando as duas imagens lado a lado, podemos ter uma nocao da dependencia do SINR que o CQI tem."
   ]
  },
  {
   "cell_type": "code",
   "execution_count": 10,
   "metadata": {
    "colab": {
     "base_uri": "https://localhost:8080/",
     "height": 295
    },
    "colab_type": "code",
    "id": "a6Z-QSiieGEo",
    "outputId": "bf767c1c-eee5-4337-dd84-acedd1e23628"
   },
   "outputs": [
    {
     "data": {
      "image/png": "[encoded data removed]",
      "text/plain": [
       "<Figure size 432x288 with 2 Axes>"
      ]
     },
     "metadata": {
      "needs_background": "light"
     },
     "output_type": "display_data"
    }
   ],
   "source": [
    "x = range(0, 12500)\n",
    "plt.subplot(2, 1, 1)\n",
    "plt.title(\"Valores ao longo da simulação\")\n",
    "plt.plot(x, sinr['SINR'], 'g', label='SINR')\n",
    "plt.ylabel('Amplitude (dB)')\n",
    "plt.legend()\n",
    "\n",
    "plt.subplot(2,1,2)\n",
    "plt.plot(x, cqi['CQI'], 'r', label='CQI')\n",
    "plt.xlabel('Amostra')\n",
    "plt.ylabel('Valor reportado')\n",
    "plt.legend()\n",
    "plt.savefig('Resultadosfull.png')"
   ]
  },
  {
   "cell_type": "markdown",
   "metadata": {
    "colab_type": "text",
    "id": "qA3HNbVEl1ft"
   },
   "source": [
    "Analisando somente uma parcela dos resultados, podemos ter a mesma confirmacao."
   ]
  },
  {
   "cell_type": "code",
   "execution_count": 11,
   "metadata": {
    "colab": {
     "base_uri": "https://localhost:8080/",
     "height": 329
    },
    "colab_type": "code",
    "id": "g5g_oTeelwiX",
    "outputId": "90908306-73ae-4e24-a863-6bf3c2618d50"
   },
   "outputs": [
    {
     "name": "stderr",
     "output_type": "stream",
     "text": [
      "No handles with labels found to put in legend.\n",
      "No handles with labels found to put in legend.\n"
     ]
    },
    {
     "data": {
      "image/png": "[encoded data removed]",
      "text/plain": [
       "<Figure size 432x288 with 2 Axes>"
      ]
     },
     "metadata": {
      "needs_background": "light"
     },
     "output_type": "display_data"
    }
   ],
   "source": [
    "x = range(0, 200)\n",
    "plt.subplot(2, 1, 1)\n",
    "plt.title(\"Valores ao longo da simulação\")\n",
    "plt.plot(x, sinr['SINR'][0:200], 'g')\n",
    "plt.ylabel('Amplitude (dB)')\n",
    "plt.legend()\n",
    "\n",
    "\n",
    "plt.subplot(2,1,2)\n",
    "plt.plot(x, cqi['CQI'][0:200], 'r')\n",
    "plt.xlabel('Amostra')\n",
    "plt.ylabel('Valor reportado')\n",
    "plt.legend()\n",
    "plt.savefig('Resultados.png')"
   ]
  },
  {
   "cell_type": "markdown",
   "metadata": {
    "colab_type": "text",
    "id": "kAZNGX576noT"
   },
   "source": [
    "## Transformacao do indice em uma serie temporal\n",
    "Aqui, uma \"artimanha\" foi usada. Para transformar a serie de reports do CQI em uma serie temporal, a coluna de Indice foi transformada em \"datetime\". Inicialmente, isto implicara em um erro, ja que a coluna ficara inteiramente confusa, mas mais adiante isto sera crucial para o funcionamento da RNN."
   ]
  },
  {
   "cell_type": "code",
   "execution_count": 12,
   "metadata": {
    "colab": {},
    "colab_type": "code",
    "id": "k7DDcj1v7f9_"
   },
   "outputs": [],
   "source": [
    "cqi.index = pd.to_datetime(cqi.index)"
   ]
  },
  {
   "cell_type": "code",
   "execution_count": 13,
   "metadata": {
    "colab": {
     "base_uri": "https://localhost:8080/",
     "height": 225
    },
    "colab_type": "code",
    "id": "BeeY4aepJriJ",
    "outputId": "1de0cf34-e136-4460-cbff-e831f48312f4"
   },
   "outputs": [
    {
     "data": {
      "text/html": [
       "<div>\n",
       "<style scoped>\n",
       "    .dataframe tbody tr th:only-of-type {\n",
       "        vertical-align: middle;\n",
       "    }\n",
       "\n",
       "    .dataframe tbody tr th {\n",
       "        vertical-align: top;\n",
       "    }\n",
       "\n",
       "    .dataframe thead th {\n",
       "        text-align: right;\n",
       "    }\n",
       "</style>\n",
       "<table border=\"1\" class=\"dataframe\">\n",
       "  <thead>\n",
       "    <tr style=\"text-align: right;\">\n",
       "      <th></th>\n",
       "      <th>CQI</th>\n",
       "    </tr>\n",
       "    <tr>\n",
       "      <th>Indice</th>\n",
       "      <th></th>\n",
       "    </tr>\n",
       "  </thead>\n",
       "  <tbody>\n",
       "    <tr>\n",
       "      <th>1970-01-01 00:00:00.000000001</th>\n",
       "      <td>13</td>\n",
       "    </tr>\n",
       "    <tr>\n",
       "      <th>1970-01-01 00:00:00.000000002</th>\n",
       "      <td>13</td>\n",
       "    </tr>\n",
       "    <tr>\n",
       "      <th>1970-01-01 00:00:00.000000003</th>\n",
       "      <td>13</td>\n",
       "    </tr>\n",
       "    <tr>\n",
       "      <th>1970-01-01 00:00:00.000000004</th>\n",
       "      <td>13</td>\n",
       "    </tr>\n",
       "    <tr>\n",
       "      <th>1970-01-01 00:00:00.000000005</th>\n",
       "      <td>13</td>\n",
       "    </tr>\n",
       "  </tbody>\n",
       "</table>\n",
       "</div>"
      ],
      "text/plain": [
       "                               CQI\n",
       "Indice                            \n",
       "1970-01-01 00:00:00.000000001   13\n",
       "1970-01-01 00:00:00.000000002   13\n",
       "1970-01-01 00:00:00.000000003   13\n",
       "1970-01-01 00:00:00.000000004   13\n",
       "1970-01-01 00:00:00.000000005   13"
      ]
     },
     "execution_count": 13,
     "metadata": {},
     "output_type": "execute_result"
    }
   ],
   "source": [
    "cqi.head()"
   ]
  },
  {
   "cell_type": "markdown",
   "metadata": {
    "colab_type": "text",
    "id": "m7FIsOuA_ZF_"
   },
   "source": [
    "## Train Test Split\n",
    "Divisao dos CQI reportados entre base de treinamento e base de teste."
   ]
  },
  {
   "cell_type": "code",
   "execution_count": 14,
   "metadata": {
    "colab": {
     "base_uri": "https://localhost:8080/",
     "height": 151
    },
    "colab_type": "code",
    "id": "qIOqA1HcnjBA",
    "outputId": "4f9ed759-9521-45da-bfe8-fd51143dc421"
   },
   "outputs": [
    {
     "name": "stdout",
     "output_type": "stream",
     "text": [
      "<class 'pandas.core.frame.DataFrame'>\n",
      "DatetimeIndex: 12500 entries, 1970-01-01 00:00:00.000000001 to 1970-01-01 00:00:00.000012500\n",
      "Data columns (total 1 columns):\n",
      " #   Column  Non-Null Count  Dtype\n",
      "---  ------  --------------  -----\n",
      " 0   CQI     12500 non-null  int64\n",
      "dtypes: int64(1)\n",
      "memory usage: 195.3 KB\n"
     ]
    }
   ],
   "source": [
    "cqi.info()"
   ]
  },
  {
   "cell_type": "code",
   "execution_count": 15,
   "metadata": {
    "colab": {},
    "colab_type": "code",
    "id": "Kg8ugFEnDhCZ"
   },
   "outputs": [],
   "source": [
    "train_set = cqi.head(12400)\n",
    "test_set = cqi.tail(100)"
   ]
  },
  {
   "cell_type": "markdown",
   "metadata": {
    "colab_type": "text",
    "id": "_-ivkflcF6bI"
   },
   "source": [
    "## Adaptação dos dados\n",
    "\n",
    "Os dados serao adaptados pelo algoritmo MinMaxScaler para que possam ser processados."
   ]
  },
  {
   "cell_type": "code",
   "execution_count": 16,
   "metadata": {
    "colab": {},
    "colab_type": "code",
    "id": "jYjEDQBnGGyd"
   },
   "outputs": [],
   "source": [
    "from sklearn.preprocessing import MinMaxScaler\n",
    "\n",
    "scaler = MinMaxScaler()\n",
    "\n",
    "train_scaled = scaler.fit_transform(train_set)\n",
    "test_scaled = scaler.transform(test_set)"
   ]
  },
  {
   "cell_type": "markdown",
   "metadata": {
    "colab_type": "text",
    "id": "vcufcdFrGSWf"
   },
   "source": [
    "## Função de batch\n",
    "\n",
    "Para diminuir a complexidade do script, uma funcao para alimentar a rede em batches (lotes) sera usada."
   ]
  },
  {
   "cell_type": "code",
   "execution_count": 17,
   "metadata": {
    "colab": {},
    "colab_type": "code",
    "id": "yZ3739xTGqll"
   },
   "outputs": [],
   "source": [
    "def next_batch(training_data,batch_size,steps):\n",
    "    \n",
    "    rand_start = np.random.randint(0,len(training_data)-steps) \n",
    "\n",
    "    y_batch = np.array(training_data[rand_start:rand_start+steps+1]).reshape(1,steps+1)\n",
    "\n",
    "    return y_batch[:, :-1].reshape(-1, steps, 1), y_batch[:, 1:].reshape(-1, steps, 1) "
   ]
  },
  {
   "cell_type": "markdown",
   "metadata": {
    "colab_type": "text",
    "id": "QuNcGSvGHCmv"
   },
   "source": [
    "## Construção da rede\n",
    "\n",
    "Primeiramente vamos setar as variaveis da rede, que sao:\n",
    "\n",
    "- Numero de entradas: quantas variaveis serao usadas como input na rede (no caso, apenas uma);\n",
    "- Numero de variaveis em cada batch;\n",
    "- Numero de neurons: quantidade de celulas que a rede neural tera;\n",
    "- Numero de saidas: quantas saidas a rede tera (no caso, apenas uma);\n",
    "- Ritmo de aprendizado: variavel que dita o tamanho do \"salto\" entre cada iteracao, ditando o ritmo de aprendizado. Este valor deve ser equilibrado para uma solucao convergente da rede;\n",
    "- Numero de interacoes: quantas vezes os dados serao processados para a solucao;\n",
    "- Tamanho do batch."
   ]
  },
  {
   "cell_type": "code",
   "execution_count": 18,
   "metadata": {
    "colab": {},
    "colab_type": "code",
    "id": "sNPv8YDCJsiv"
   },
   "outputs": [],
   "source": [
    "# Numero de entradas\n",
    "num_inputs = 1\n",
    "# Numero de variaveis em cada batch\n",
    "num_time_steps = 100\n",
    "# Numero de neurons\n",
    "num_neurons = 100\n",
    "# Numero de saidas\n",
    "num_outputs = 1\n",
    "# Ritmo de aprendizado\n",
    "learning_rate = 0.001\n",
    "# Numero de interacoes\n",
    "num_train_iterations = 8000\n",
    "# Tamanho do batch\n",
    "batch_size = 1"
   ]
  },
  {
   "cell_type": "markdown",
   "metadata": {
    "colab_type": "text",
    "id": "T0QhlgORKhmI"
   },
   "source": [
    "### Criando \"espacos\" (placeholders) para as variaveis de entrada e saida na rede."
   ]
  },
  {
   "cell_type": "code",
   "execution_count": 19,
   "metadata": {
    "colab": {},
    "colab_type": "code",
    "id": "_mPrx0DnLPo2"
   },
   "outputs": [],
   "source": [
    "X = tf.placeholder(tf.float32, [None, num_time_steps, num_inputs])\n",
    "y = tf.placeholder(tf.float32, [None, num_time_steps, num_outputs])"
   ]
  },
  {
   "cell_type": "markdown",
   "metadata": {
    "colab_type": "text",
    "id": "mgK401kfNc9p"
   },
   "source": [
    "### Configuracao da celula da rede\n",
    "Aqui a celula usada na rede e configurada. Conforme podemos ver (pela linha comentada e a sua equivalente usada no codigo) a configuracao das celulas LSTM e GRU e bastante simples de ser feita."
   ]
  },
  {
   "cell_type": "code",
   "execution_count": 20,
   "metadata": {
    "colab": {
     "base_uri": "https://localhost:8080/",
     "height": 423
    },
    "colab_type": "code",
    "id": "MuHpt3zdNdK4",
    "outputId": "94ab9680-74eb-464d-c4be-b4e57b30a9c8"
   },
   "outputs": [
    {
     "name": "stdout",
     "output_type": "stream",
     "text": [
      "WARNING:tensorflow:\n",
      "The TensorFlow contrib module will not be included in TensorFlow 2.0.\n",
      "For more information, please see:\n",
      "  * https://github.com/tensorflow/community/blob/master/rfcs/20180907-contrib-sunset.md\n",
      "  * https://github.com/tensorflow/addons\n",
      "  * https://github.com/tensorflow/io (for I/O related ops)\n",
      "If you depend on functionality not listed there, please file an issue.\n",
      "\n",
      "WARNING:tensorflow:From <ipython-input-20-e73f26c48d50>:2: BasicLSTMCell.__init__ (from tensorflow.python.ops.rnn_cell_impl) is deprecated and will be removed in a future version.\n",
      "Instructions for updating:\n",
      "This class is equivalent as tf.keras.layers.LSTMCell, and will be replaced by that in Tensorflow 2.0.\n",
      "WARNING:tensorflow:From <ipython-input-20-e73f26c48d50>:6: dynamic_rnn (from tensorflow.python.ops.rnn) is deprecated and will be removed in a future version.\n",
      "Instructions for updating:\n",
      "Please use `keras.layers.RNN(cell)`, which is equivalent to this API\n",
      "WARNING:tensorflow:From C:\\Users\\patri\\anaconda3\\lib\\site-packages\\tensorflow_core\\python\\ops\\rnn_cell_impl.py:735: Layer.add_variable (from tensorflow.python.keras.engine.base_layer) is deprecated and will be removed in a future version.\n",
      "Instructions for updating:\n",
      "Please use `layer.add_weight` method instead.\n",
      "WARNING:tensorflow:From C:\\Users\\patri\\anaconda3\\lib\\site-packages\\tensorflow_core\\python\\ops\\rnn_cell_impl.py:739: calling Zeros.__init__ (from tensorflow.python.ops.init_ops) with dtype is deprecated and will be removed in a future version.\n",
      "Instructions for updating:\n",
      "Call initializer instance with the dtype argument instead of passing it to the constructor\n",
      "WARNING:tensorflow:From C:\\Users\\patri\\anaconda3\\lib\\site-packages\\tensorflow_core\\contrib\\rnn\\python\\ops\\core_rnn_cell.py:104: calling Constant.__init__ (from tensorflow.python.ops.init_ops) with dtype is deprecated and will be removed in a future version.\n",
      "Instructions for updating:\n",
      "Call initializer instance with the dtype argument instead of passing it to the constructor\n"
     ]
    }
   ],
   "source": [
    "cell = tf.contrib.rnn.OutputProjectionWrapper(\n",
    "    tf.contrib.rnn.BasicLSTMCell(num_units=num_neurons, activation=tf.nn.relu),\n",
    "    #tf.contrib.rnn.GRUCell(num_units=num_neurons, activation=tf.nn.relu),\n",
    "    output_size=num_outputs) \n",
    "\n",
    "outputs, states = tf.nn.dynamic_rnn(cell, X, dtype=tf.float32)"
   ]
  },
  {
   "cell_type": "markdown",
   "metadata": {
    "colab_type": "text",
    "id": "v_kpwGXmOGZ_"
   },
   "source": [
    "### Criacao da funcao de erro/perda"
   ]
  },
  {
   "cell_type": "code",
   "execution_count": 21,
   "metadata": {
    "colab": {},
    "colab_type": "code",
    "id": "Qc5o6RsOOLIU"
   },
   "outputs": [],
   "source": [
    "loss = tf.reduce_mean(tf.square(outputs - y)) # MSE\n",
    "optimizer = tf.train.AdamOptimizer(learning_rate=learning_rate)\n",
    "train = optimizer.minimize(loss)"
   ]
  },
  {
   "cell_type": "markdown",
   "metadata": {
    "colab_type": "text",
    "id": "ckZ2lCDSOPCI"
   },
   "source": [
    "### Inicializando as variaveis globais"
   ]
  },
  {
   "cell_type": "code",
   "execution_count": 22,
   "metadata": {
    "colab": {},
    "colab_type": "code",
    "id": "mjzsBcqxONPh"
   },
   "outputs": [],
   "source": [
    "init = tf.global_variables_initializer()"
   ]
  },
  {
   "cell_type": "markdown",
   "metadata": {
    "colab_type": "text",
    "id": "qGglD6pYONdF"
   },
   "source": [
    "### Criando a instancia de salvar\n",
    "Para que a rede possa ser usada na predicao, ela precisa ser salva dentro da sessao de treinamento."
   ]
  },
  {
   "cell_type": "code",
   "execution_count": 23,
   "metadata": {
    "colab": {},
    "colab_type": "code",
    "id": "RBaLQHbbONoe"
   },
   "outputs": [],
   "source": [
    "saver = tf.train.Saver()"
   ]
  },
  {
   "cell_type": "markdown",
   "metadata": {
    "colab_type": "text",
    "id": "3xrX_suGON06"
   },
   "source": [
    "## Inicio da sessao da rede\n",
    "A sessao sera iniciada e a cada 100 interacoes o erro quadratico medio (MSE) sera plotado."
   ]
  },
  {
   "cell_type": "code",
   "execution_count": 24,
   "metadata": {
    "colab": {
     "base_uri": "https://localhost:8080/",
     "height": 1000
    },
    "colab_type": "code",
    "id": "cla_JtJOOnO2",
    "outputId": "2ef4a55d-96c4-439f-88eb-af27e08e6a17"
   },
   "outputs": [
    {
     "name": "stdout",
     "output_type": "stream",
     "text": [
      "0 \tMSE: 0.17783158\n",
      "100 \tMSE: 0.00360249\n",
      "200 \tMSE: 0.0054140966\n",
      "300 \tMSE: 0.006146595\n",
      "400 \tMSE: 0.0022697344\n",
      "500 \tMSE: 0.0028678149\n",
      "600 \tMSE: 0.002218524\n",
      "700 \tMSE: 0.0032824238\n",
      "800 \tMSE: 0.0036482213\n",
      "900 \tMSE: 0.0026157352\n",
      "1000 \tMSE: 0.0009247479\n",
      "1100 \tMSE: 0.0018713127\n",
      "1200 \tMSE: 0.0020518927\n",
      "1300 \tMSE: 0.0025029096\n",
      "1400 \tMSE: 0.0023148195\n",
      "1500 \tMSE: 0.0023349575\n",
      "1600 \tMSE: 0.0030272882\n",
      "1700 \tMSE: 0.0019763221\n",
      "1800 \tMSE: 0.0016221772\n",
      "1900 \tMSE: 0.0021183125\n",
      "2000 \tMSE: 0.0015365562\n",
      "2100 \tMSE: 0.002318724\n",
      "2200 \tMSE: 0.0016436146\n",
      "2300 \tMSE: 0.002039319\n",
      "2400 \tMSE: 0.0015021005\n",
      "2500 \tMSE: 0.0014575581\n",
      "2600 \tMSE: 0.0013079782\n",
      "2700 \tMSE: 0.0017109964\n",
      "2800 \tMSE: 0.0017067898\n",
      "2900 \tMSE: 0.0011236385\n",
      "3000 \tMSE: 0.0018690076\n",
      "3100 \tMSE: 0.001886141\n",
      "3200 \tMSE: 0.001702595\n",
      "3300 \tMSE: 0.0014909522\n",
      "3400 \tMSE: 0.0023730416\n",
      "3500 \tMSE: 0.0012131192\n",
      "3600 \tMSE: 0.0016699685\n",
      "3700 \tMSE: 0.0013411079\n",
      "3800 \tMSE: 0.0020123473\n",
      "3900 \tMSE: 0.00054795534\n",
      "4000 \tMSE: 0.0014065555\n",
      "4100 \tMSE: 0.0014254169\n",
      "4200 \tMSE: 0.0019910366\n",
      "4300 \tMSE: 0.0017560443\n",
      "4400 \tMSE: 0.0017599959\n",
      "4500 \tMSE: 0.0014063701\n",
      "4600 \tMSE: 0.0015416581\n",
      "4700 \tMSE: 0.0015487734\n",
      "4800 \tMSE: 0.00120211\n",
      "4900 \tMSE: 0.0020745508\n",
      "5000 \tMSE: 0.0019386258\n",
      "5100 \tMSE: 0.001588096\n",
      "5200 \tMSE: 0.0019384585\n",
      "5300 \tMSE: 0.0022081719\n",
      "5400 \tMSE: 0.0017616372\n",
      "5500 \tMSE: 0.0008142142\n",
      "5600 \tMSE: 0.0014859864\n",
      "5700 \tMSE: 0.0015903153\n",
      "5800 \tMSE: 0.001788322\n",
      "5900 \tMSE: 0.00080887653\n",
      "6000 \tMSE: 0.0017259202\n",
      "6100 \tMSE: 0.00068439846\n",
      "6200 \tMSE: 0.0015212541\n",
      "6300 \tMSE: 0.0019562806\n",
      "6400 \tMSE: 0.0021111532\n",
      "6500 \tMSE: 0.0015987083\n",
      "6600 \tMSE: 0.002412355\n",
      "6700 \tMSE: 0.0013454839\n",
      "6800 \tMSE: 0.0013176395\n",
      "6900 \tMSE: 0.0017989005\n",
      "7000 \tMSE: 0.0012858771\n",
      "7100 \tMSE: 0.001407411\n",
      "7200 \tMSE: 0.0015018003\n",
      "7300 \tMSE: 0.0015730842\n",
      "7400 \tMSE: 0.0018516387\n",
      "7500 \tMSE: 0.00094042084\n",
      "7600 \tMSE: 0.0023026385\n",
      "7700 \tMSE: 0.001635859\n",
      "7800 \tMSE: 0.0023447245\n",
      "7900 \tMSE: 0.0012275772\n"
     ]
    }
   ],
   "source": [
    "i=1\n",
    "mse_plot = []\n",
    "with tf.Session() as sess:\n",
    "    sess.run(init)\n",
    "    \n",
    "    for iteration in range(num_train_iterations):\n",
    "        \n",
    "        X_batch, y_batch = next_batch(train_scaled,batch_size,num_time_steps)\n",
    "        sess.run(train, feed_dict={X: X_batch, y: y_batch})\n",
    "        \n",
    "        if iteration % 100 == 0:\n",
    "            \n",
    "            mse = loss.eval(feed_dict={X: X_batch, y: y_batch})\n",
    "            print(iteration, \"\\tMSE:\", mse)\n",
    "            if iteration > 4000 and mse < 0.0006:\n",
    "              break;\n",
    "            mse_plot.append(mse)\n",
    "    \n",
    "    # Salvando o modelo\n",
    "    saver.save(sess, \"rede\")"
   ]
  },
  {
   "cell_type": "code",
   "execution_count": 25,
   "metadata": {
    "colab": {
     "base_uri": "https://localhost:8080/",
     "height": 295
    },
    "colab_type": "code",
    "id": "hELODVcTmmQZ",
    "outputId": "95ef41e6-bd44-48f5-88ac-647e51da9912"
   },
   "outputs": [
    {
     "data": {
      "image/png": "[encoded data removed]",
      "text/plain": [
       "<Figure size 432x288 with 1 Axes>"
      ]
     },
     "metadata": {
      "needs_background": "light"
     },
     "output_type": "display_data"
    }
   ],
   "source": [
    "plt.plot(mse_plot[2:80])\n",
    "plt.xlabel('Centenas de iterações')\n",
    "plt.ylabel('Erro quadrático médio')\n",
    "plt.title('Erro quadrático médio em função da iteração')\n",
    "plt.savefig('mse.png')"
   ]
  },
  {
   "cell_type": "markdown",
   "metadata": {
    "colab_type": "text",
    "id": "jOTxcTPsS-NV"
   },
   "source": [
    "## Teste de previsao\n",
    "A previsao da rede funciona da seguinte forma: \n",
    "\n",
    "1.   A rede ja treinada e restaurada na sessao de avaliacao;\n",
    "2.   O dado em t e inserido na rede ja treinada;\n",
    "3.   O valor predito de t+1 é salvo.\n"
   ]
  },
  {
   "cell_type": "code",
   "execution_count": 26,
   "metadata": {
    "colab": {
     "base_uri": "https://localhost:8080/",
     "height": 34
    },
    "colab_type": "code",
    "id": "T9co2wzyTGEe",
    "outputId": "fde1abd0-edf9-4864-e794-828f5698488e"
   },
   "outputs": [
    {
     "name": "stdout",
     "output_type": "stream",
     "text": [
      "INFO:tensorflow:Restoring parameters from ./rede\n"
     ]
    }
   ],
   "source": [
    "with tf.Session() as sess:\n",
    "    saver.restore(sess, \"./rede\")\n",
    "\n",
    "    train_seed = list(train_scaled[-100:])\n",
    "\n",
    "    for iteration in range(100):\n",
    "        X_batch = np.array(train_seed[-num_time_steps:]).reshape(1, num_time_steps, 1)\n",
    "        y_pred = sess.run(outputs, feed_dict={X: X_batch})\n",
    "        train_seed.append(y_pred[0, -1, 0])"
   ]
  },
  {
   "cell_type": "markdown",
   "metadata": {
    "colab_type": "text",
    "id": "ZeRD59mgjySR"
   },
   "source": [
    "Os resultados sao passados para o conjunto de dados de teste em uma nova coluna \"Generated\""
   ]
  },
  {
   "cell_type": "code",
   "execution_count": 27,
   "metadata": {
    "colab": {},
    "colab_type": "code",
    "id": "Ar9hjHIpU6l9"
   },
   "outputs": [],
   "source": [
    "results = scaler.inverse_transform(np.array(train_seed[100:]).reshape(100,1))"
   ]
  },
  {
   "cell_type": "code",
   "execution_count": 28,
   "metadata": {
    "colab": {
     "base_uri": "https://localhost:8080/",
     "height": 118
    },
    "colab_type": "code",
    "id": "D925UFskU-Zt",
    "outputId": "b5337914-36d8-47c5-e710-1529c3a9ad26"
   },
   "outputs": [
    {
     "name": "stderr",
     "output_type": "stream",
     "text": [
      "C:\\Users\\patri\\anaconda3\\lib\\site-packages\\ipykernel_launcher.py:1: SettingWithCopyWarning: \n",
      "A value is trying to be set on a copy of a slice from a DataFrame.\n",
      "Try using .loc[row_indexer,col_indexer] = value instead\n",
      "\n",
      "See the caveats in the documentation: https://pandas.pydata.org/pandas-docs/stable/user_guide/indexing.html#returning-a-view-versus-a-copy\n",
      "  \"\"\"Entry point for launching an IPython kernel.\n"
     ]
    }
   ],
   "source": [
    "test_set['Generated'] = results"
   ]
  },
  {
   "cell_type": "markdown",
   "metadata": {
    "colab_type": "text",
    "id": "FoeiRmEij73i"
   },
   "source": [
    "Conforme podemos ver a seguir, a base de teste tem 3 colunas:\n",
    "\n",
    "\n",
    "*   Indice: valor que representa a passagem temporal dos frames. Conforme citado anteriormente, ele foi manipulado e apresenta-se \"errado\";\n",
    "*   CQI: valor original, oriundo das simulações;\n",
    "*   Generated: valores preditos pela rede.\n",
    "\n"
   ]
  },
  {
   "cell_type": "code",
   "execution_count": 29,
   "metadata": {
    "colab": {
     "base_uri": "https://localhost:8080/",
     "height": 225
    },
    "colab_type": "code",
    "id": "Ql8m5fGcNiKl",
    "outputId": "833ac23d-a9f9-43fc-c001-c543453665a5"
   },
   "outputs": [
    {
     "data": {
      "text/html": [
       "<div>\n",
       "<style scoped>\n",
       "    .dataframe tbody tr th:only-of-type {\n",
       "        vertical-align: middle;\n",
       "    }\n",
       "\n",
       "    .dataframe tbody tr th {\n",
       "        vertical-align: top;\n",
       "    }\n",
       "\n",
       "    .dataframe thead th {\n",
       "        text-align: right;\n",
       "    }\n",
       "</style>\n",
       "<table border=\"1\" class=\"dataframe\">\n",
       "  <thead>\n",
       "    <tr style=\"text-align: right;\">\n",
       "      <th></th>\n",
       "      <th>CQI</th>\n",
       "      <th>Generated</th>\n",
       "    </tr>\n",
       "    <tr>\n",
       "      <th>Indice</th>\n",
       "      <th></th>\n",
       "      <th></th>\n",
       "    </tr>\n",
       "  </thead>\n",
       "  <tbody>\n",
       "    <tr>\n",
       "      <th>1970-01-01 00:00:00.000012401</th>\n",
       "      <td>13</td>\n",
       "      <td>13.002917</td>\n",
       "    </tr>\n",
       "    <tr>\n",
       "      <th>1970-01-01 00:00:00.000012402</th>\n",
       "      <td>13</td>\n",
       "      <td>12.973745</td>\n",
       "    </tr>\n",
       "    <tr>\n",
       "      <th>1970-01-01 00:00:00.000012403</th>\n",
       "      <td>13</td>\n",
       "      <td>12.931018</td>\n",
       "    </tr>\n",
       "    <tr>\n",
       "      <th>1970-01-01 00:00:00.000012404</th>\n",
       "      <td>13</td>\n",
       "      <td>12.882790</td>\n",
       "    </tr>\n",
       "    <tr>\n",
       "      <th>1970-01-01 00:00:00.000012405</th>\n",
       "      <td>13</td>\n",
       "      <td>12.829960</td>\n",
       "    </tr>\n",
       "  </tbody>\n",
       "</table>\n",
       "</div>"
      ],
      "text/plain": [
       "                               CQI  Generated\n",
       "Indice                                       \n",
       "1970-01-01 00:00:00.000012401   13  13.002917\n",
       "1970-01-01 00:00:00.000012402   13  12.973745\n",
       "1970-01-01 00:00:00.000012403   13  12.931018\n",
       "1970-01-01 00:00:00.000012404   13  12.882790\n",
       "1970-01-01 00:00:00.000012405   13  12.829960"
      ]
     },
     "execution_count": 29,
     "metadata": {},
     "output_type": "execute_result"
    }
   ],
   "source": [
    "test_set.head()"
   ]
  },
  {
   "cell_type": "markdown",
   "metadata": {
    "colab_type": "text",
    "id": "qGDJAt86PVz5"
   },
   "source": [
    "## Arredondamento dos resultados e plotagem\n",
    "Conforme visto anteriormente, a rede neural tenta prever o CQI do canal, porem na sua saida ha numeros com virgula. Como o valor do CQI e um numero inteiro, e necessario realizar o arredondamento dos valores da coluna \"Generated\""
   ]
  },
  {
   "cell_type": "code",
   "execution_count": 30,
   "metadata": {
    "colab": {
     "base_uri": "https://localhost:8080/",
     "height": 118
    },
    "colab_type": "code",
    "id": "vaXqJ3avQXlM",
    "outputId": "d662db97-c807-494c-95f6-cc1060566077"
   },
   "outputs": [
    {
     "name": "stderr",
     "output_type": "stream",
     "text": [
      "C:\\Users\\patri\\anaconda3\\lib\\site-packages\\ipykernel_launcher.py:1: SettingWithCopyWarning: \n",
      "A value is trying to be set on a copy of a slice from a DataFrame.\n",
      "Try using .loc[row_indexer,col_indexer] = value instead\n",
      "\n",
      "See the caveats in the documentation: https://pandas.pydata.org/pandas-docs/stable/user_guide/indexing.html#returning-a-view-versus-a-copy\n",
      "  \"\"\"Entry point for launching an IPython kernel.\n"
     ]
    }
   ],
   "source": [
    "test_set['Generated'] = round(test_set['Generated'])"
   ]
  },
  {
   "cell_type": "code",
   "execution_count": 31,
   "metadata": {
    "colab": {
     "base_uri": "https://localhost:8080/",
     "height": 431
    },
    "colab_type": "code",
    "id": "8N-gbIBMzOuU",
    "outputId": "9ebe394b-4462-40cf-b805-980e534c5b92"
   },
   "outputs": [
    {
     "data": {
      "text/html": [
       "<div>\n",
       "<style scoped>\n",
       "    .dataframe tbody tr th:only-of-type {\n",
       "        vertical-align: middle;\n",
       "    }\n",
       "\n",
       "    .dataframe tbody tr th {\n",
       "        vertical-align: top;\n",
       "    }\n",
       "\n",
       "    .dataframe thead th {\n",
       "        text-align: right;\n",
       "    }\n",
       "</style>\n",
       "<table border=\"1\" class=\"dataframe\">\n",
       "  <thead>\n",
       "    <tr style=\"text-align: right;\">\n",
       "      <th></th>\n",
       "      <th>CQI</th>\n",
       "      <th>Generated</th>\n",
       "    </tr>\n",
       "    <tr>\n",
       "      <th>Indice</th>\n",
       "      <th></th>\n",
       "      <th></th>\n",
       "    </tr>\n",
       "  </thead>\n",
       "  <tbody>\n",
       "    <tr>\n",
       "      <th>1970-01-01 00:00:00.000012401</th>\n",
       "      <td>13</td>\n",
       "      <td>13.0</td>\n",
       "    </tr>\n",
       "    <tr>\n",
       "      <th>1970-01-01 00:00:00.000012402</th>\n",
       "      <td>13</td>\n",
       "      <td>13.0</td>\n",
       "    </tr>\n",
       "    <tr>\n",
       "      <th>1970-01-01 00:00:00.000012403</th>\n",
       "      <td>13</td>\n",
       "      <td>13.0</td>\n",
       "    </tr>\n",
       "    <tr>\n",
       "      <th>1970-01-01 00:00:00.000012404</th>\n",
       "      <td>13</td>\n",
       "      <td>13.0</td>\n",
       "    </tr>\n",
       "    <tr>\n",
       "      <th>1970-01-01 00:00:00.000012405</th>\n",
       "      <td>13</td>\n",
       "      <td>13.0</td>\n",
       "    </tr>\n",
       "    <tr>\n",
       "      <th>...</th>\n",
       "      <td>...</td>\n",
       "      <td>...</td>\n",
       "    </tr>\n",
       "    <tr>\n",
       "      <th>1970-01-01 00:00:00.000012496</th>\n",
       "      <td>11</td>\n",
       "      <td>9.0</td>\n",
       "    </tr>\n",
       "    <tr>\n",
       "      <th>1970-01-01 00:00:00.000012497</th>\n",
       "      <td>11</td>\n",
       "      <td>9.0</td>\n",
       "    </tr>\n",
       "    <tr>\n",
       "      <th>1970-01-01 00:00:00.000012498</th>\n",
       "      <td>11</td>\n",
       "      <td>9.0</td>\n",
       "    </tr>\n",
       "    <tr>\n",
       "      <th>1970-01-01 00:00:00.000012499</th>\n",
       "      <td>11</td>\n",
       "      <td>9.0</td>\n",
       "    </tr>\n",
       "    <tr>\n",
       "      <th>1970-01-01 00:00:00.000012500</th>\n",
       "      <td>11</td>\n",
       "      <td>9.0</td>\n",
       "    </tr>\n",
       "  </tbody>\n",
       "</table>\n",
       "<p>100 rows × 2 columns</p>\n",
       "</div>"
      ],
      "text/plain": [
       "                               CQI  Generated\n",
       "Indice                                       \n",
       "1970-01-01 00:00:00.000012401   13       13.0\n",
       "1970-01-01 00:00:00.000012402   13       13.0\n",
       "1970-01-01 00:00:00.000012403   13       13.0\n",
       "1970-01-01 00:00:00.000012404   13       13.0\n",
       "1970-01-01 00:00:00.000012405   13       13.0\n",
       "...                            ...        ...\n",
       "1970-01-01 00:00:00.000012496   11        9.0\n",
       "1970-01-01 00:00:00.000012497   11        9.0\n",
       "1970-01-01 00:00:00.000012498   11        9.0\n",
       "1970-01-01 00:00:00.000012499   11        9.0\n",
       "1970-01-01 00:00:00.000012500   11        9.0\n",
       "\n",
       "[100 rows x 2 columns]"
      ]
     },
     "execution_count": 31,
     "metadata": {},
     "output_type": "execute_result"
    }
   ],
   "source": [
    "test_set"
   ]
  },
  {
   "cell_type": "markdown",
   "metadata": {
    "colab_type": "text",
    "id": "Jks178zYlgV6"
   },
   "source": [
    "Para realizar a correta plotagem, a correcao da base temporal sera feita. Como os reports do CQI nao tem base temporal, mas sim ordem, usaremos a variavel \"x\" gerada a seguir para realizar a plotagem dos resultados"
   ]
  },
  {
   "cell_type": "code",
   "execution_count": 32,
   "metadata": {
    "colab": {},
    "colab_type": "code",
    "id": "Bb5CSizlOdL7"
   },
   "outputs": [],
   "source": [
    "x = range(1, len(test_set)+1)"
   ]
  },
  {
   "cell_type": "code",
   "execution_count": 33,
   "metadata": {
    "colab": {
     "base_uri": "https://localhost:8080/",
     "height": 302
    },
    "colab_type": "code",
    "id": "a9AxA-RMbdIi",
    "outputId": "1f701e0e-7a44-4da0-a1fd-d785c4ef6e44"
   },
   "outputs": [
    {
     "data": {
      "image/png": "[encoded data removed]",
      "text/plain": [
       "<Figure size 432x288 with 1 Axes>"
      ]
     },
     "metadata": {
      "needs_background": "light"
     },
     "output_type": "display_data"
    }
   ],
   "source": [
    "plt.plot(x, test_set['CQI'], 'g', label = \"Valores originais\")\n",
    "plt.plot(x, test_set['Generated'], 'r--', label = \"Valores preditos\")\n",
    "plt.legend(bbox_to_anchor=(0., 1.02, 1., .102), loc=3,\n",
    "           ncol=2, mode=\"expand\", borderaxespad=0.)\n",
    "plt.ylabel('CQI')\n",
    "plt.xlabel('Amostra')\n",
    "plt.savefig('Resultadossimulacao.png')"
   ]
  },
  {
   "cell_type": "markdown",
   "metadata": {
    "colab_type": "text",
    "id": "-drisdqel_DK"
   },
   "source": [
    "# Avaliacao dos resultados"
   ]
  },
  {
   "cell_type": "code",
   "execution_count": 34,
   "metadata": {
    "colab": {},
    "colab_type": "code",
    "id": "cWEsYEbqp9_s"
   },
   "outputs": [],
   "source": [
    "total = 0\n",
    "acertos = 0\n",
    "i = 0\n",
    "\n",
    "adr = 0"
   ]
  },
  {
   "cell_type": "code",
   "execution_count": 35,
   "metadata": {
    "colab": {},
    "colab_type": "code",
    "id": "PC-BTgjYoKSh"
   },
   "outputs": [],
   "source": [
    "for i in range (0, num_time_steps):\n",
    "  if test_set['CQI'][i] == test_set['Generated'][i]:\n",
    "    acertos=acertos+1\n",
    "  total=total+1\n",
    "  \n",
    "for i in range (0, num_time_steps):\n",
    "    adr = adr + abs((test_set['Generated'][i] - test_set['CQI'][i])) / test_set['CQI'][i]\n",
    "  \n",
    "adr = 100*adr/num_time_steps"
   ]
  },
  {
   "cell_type": "code",
   "execution_count": 36,
   "metadata": {
    "colab": {
     "base_uri": "https://localhost:8080/",
     "height": 50
    },
    "colab_type": "code",
    "id": "C1aDi7b6onuG",
    "outputId": "68698ff5-c1fd-4d9e-fd9b-22ea1b46251e"
   },
   "outputs": [
    {
     "name": "stdout",
     "output_type": "stream",
     "text": [
      "Em  100 subframes totais,houve um total de  21 acertos, sendo uma assertividade de  21.0 %\n",
      "ADR =  12.644055944055935\n"
     ]
    }
   ],
   "source": [
    "porcentagem_acertos = (acertos/total) * 100\n",
    "print (\"Em \", total, \"subframes totais,houve um total de \", acertos, \"acertos, sendo uma assertividade de \", porcentagem_acertos, \"%\")\n",
    "\n",
    "print (\"ADR = \", adr)"
   ]
  }
 ],
 "metadata": {
  "colab": {
   "name": "TCC.ipynb",
   "provenance": [],
   "toc_visible": true
  },
  "kernelspec": {
   "display_name": "Python 3",
   "language": "python",
   "name": "python3"
  },
  "language_info": {
   "codemirror_mode": {
    "name": "ipython",
    "version": 3
   },
   "file_extension": ".py",
   "mimetype": "text/x-python",
   "name": "python",
   "nbconvert_exporter": "python",
   "pygments_lexer": "ipython3",
   "version": "3.7.6"
  }
 },
 "nbformat": 4,
 "nbformat_minor": 4
}
